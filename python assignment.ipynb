{
 "cells": [
  {
   "cell_type": "markdown",
   "metadata": {},
   "source": [
    "# Home Assignment"
   ]
  },
  {
   "cell_type": "markdown",
   "metadata": {},
   "source": [
    "### 1. Write a program using list comprehension to find primes in range 2 to 100"
   ]
  },
  {
   "cell_type": "code",
   "execution_count": 2,
   "metadata": {},
   "outputs": [
    {
     "data": {
      "text/plain": [
       "[2,\n",
       " 3,\n",
       " 5,\n",
       " 7,\n",
       " 11,\n",
       " 13,\n",
       " 17,\n",
       " 19,\n",
       " 23,\n",
       " 29,\n",
       " 31,\n",
       " 37,\n",
       " 41,\n",
       " 43,\n",
       " 47,\n",
       " 53,\n",
       " 59,\n",
       " 61,\n",
       " 67,\n",
       " 71,\n",
       " 73,\n",
       " 79,\n",
       " 83,\n",
       " 89,\n",
       " 97]"
      ]
     },
     "execution_count": 2,
     "metadata": {},
     "output_type": "execute_result"
    }
   ],
   "source": [
    "p=[n for n in range(2,101)if all(n%d for d in range(2,int(n**.5)+1))]\n",
    "p "
   ]
  },
  {
   "cell_type": "markdown",
   "metadata": {},
   "source": [
    "### 2. Write a function to reverse a string"
   ]
  },
  {
   "cell_type": "markdown",
   "metadata": {},
   "source": [
    "**String = 'Data Science'**"
   ]
  },
  {
   "cell_type": "code",
   "execution_count": 4,
   "metadata": {},
   "outputs": [
    {
     "data": {
      "text/plain": [
       "'ecneicS ataD'"
      ]
     },
     "execution_count": 4,
     "metadata": {},
     "output_type": "execute_result"
    }
   ],
   "source": [
    "str1 = 'Data Science'\n",
    "def reverse_string(str1):\n",
    "  str2 = \"\"\n",
    "  for i in range(len(str1) - 1, -1, -1):\n",
    "    str2 += str1[i]\n",
    "  return str2\n",
    "reverse_string(str1)"
   ]
  },
  {
   "cell_type": "markdown",
   "metadata": {},
   "source": [
    "### 3. Write a program to extract the words from the given list which have their first character in uppercase"
   ]
  },
  {
   "cell_type": "markdown",
   "metadata": {},
   "source": [
    "**Days = ['Monday', 'tuesday','friday', 'Sunday', 'Saturday']**\n",
    "\n",
    "**Output: ['Monday', 'Sunday', 'Saturday']**"
   ]
  },
  {
   "cell_type": "code",
   "execution_count": 5,
   "metadata": {},
   "outputs": [
    {
     "name": "stdout",
     "output_type": "stream",
     "text": [
      "['Monday', 'Sunday', 'Saturday']\n"
     ]
    }
   ],
   "source": [
    "def extract_words(list1):\n",
    "  result = []\n",
    "  for word in list1:\n",
    "    if word[0].isupper():\n",
    "      result.append(word)\n",
    "  return result\n",
    "\n",
    "Days = ['Monday', 'tuesday','friday', 'Sunday', 'Saturday']\n",
    "\n",
    "print(extract_words(Days))\n"
   ]
  },
  {
   "cell_type": "markdown",
   "metadata": {},
   "source": [
    "### 4. Write a program to extract the year part from the dates in the given list"
   ]
  },
  {
   "cell_type": "markdown",
   "metadata": {},
   "source": [
    "**Batch = ['15-06-1997','15-06-2011','15-06-1993','15-06-2020']**\n",
    "\n",
    "**Output: ['1997','2011','1993','2020']**"
   ]
  },
  {
   "cell_type": "code",
   "execution_count": 6,
   "metadata": {},
   "outputs": [
    {
     "name": "stdout",
     "output_type": "stream",
     "text": [
      "['1997', '2011', '1993', '2020']\n"
     ]
    }
   ],
   "source": [
    "def extract_year(date):\n",
    "  year = date[-4:]\n",
    "  return year\n",
    "\n",
    "Batch = ['15-06-1997','15-06-2011','15-06-1993','15-06-2020']\n",
    "\n",
    "result = []\n",
    "for date in Batch:\n",
    "  year = extract_year(date)\n",
    "  result.append(year)\n",
    "\n",
    "print(result)"
   ]
  },
  {
   "cell_type": "markdown",
   "metadata": {},
   "source": [
    "### 5. Write a program swap the keys to values and values to keys of the given dictionary"
   ]
  },
  {
   "cell_type": "markdown",
   "metadata": {},
   "source": [
    "**Module = {'Data Science':1,'Machine Learning':2, 'SQL':3, 'Big Data':4}**\n",
    "\n",
    "**Output: {1:'Data Science',2:'Machine Learning', 3:'SQL', 4:'Big Data'}**\n"
   ]
  },
  {
   "cell_type": "code",
   "execution_count": 7,
   "metadata": {},
   "outputs": [
    {
     "name": "stdout",
     "output_type": "stream",
     "text": [
      "{1: 'Data Science', 2: 'Machine Learning', 3: 'SQL', 4: 'Big Data'}\n"
     ]
    }
   ],
   "source": [
    "def swap_dict(dict1):\n",
    "  temp = dict1.copy()\n",
    "  dict1 = {}\n",
    "  for key, value in temp.items():\n",
    "    dict1[value] = key\n",
    "  return dict1\n",
    "\n",
    "Module = {'Data Science':1,'Machine Learning':2, 'SQL':3, 'Big Data':4}\n",
    "\n",
    "result = swap_dict(Module)\n",
    "\n",
    "print(result)\n"
   ]
  },
  {
   "cell_type": "markdown",
   "metadata": {},
   "source": [
    "### 6. Wrote a program to calculate the cumulative average of the given list using accumulate() and lambda function"
   ]
  },
  {
   "cell_type": "markdown",
   "metadata": {},
   "source": [
    "**Input list: [5,2,1,4,6]**"
   ]
  },
  {
   "cell_type": "code",
   "execution_count": 9,
   "metadata": {},
   "outputs": [
    {
     "name": "stdout",
     "output_type": "stream",
     "text": [
      "[5, 5.333333333333333, 5.491228070175438, 6.1074442863916545, 6.951629588200909]\n"
     ]
    }
   ],
   "source": [
    "import itertools\n",
    "\n",
    "def cumulative_average(list1):\n",
    "  result = list(itertools.accumulate(list1, lambda x, y: x + y / (x + 1)))\n",
    "  return result\n",
    "\n",
    "list1 = [5,2,1,4,6]\n",
    "\n",
    "result = cumulative_average(list1)\n",
    "\n",
    "print(result)\n"
   ]
  },
  {
   "cell_type": "markdown",
   "metadata": {},
   "source": [
    "### 7. Write a program to count the number of elements in the string (given by the user) that are not present in the 'my_string'. Do not count the white spaces\n",
    "\n",
    "Use Recursion"
   ]
  },
  {
   "cell_type": "markdown",
   "metadata": {},
   "source": [
    "**my_string = 'Data Science'**"
   ]
  },
  {
   "cell_type": "code",
   "execution_count": 10,
   "metadata": {},
   "outputs": [
    {
     "name": "stdout",
     "output_type": "stream",
     "text": [
      "Enter a string: Data Science\n",
      "Enter another string: okay\n",
      "The number of distinct characters in the second string that are not present in the first string is: 1\n"
     ]
    }
   ],
   "source": [
    "def count_distinct_characters(str1, str2):\n",
    "  if len(str2) == 0:\n",
    "    return 1\n",
    "  else:\n",
    "    if str2[0] in str1:\n",
    "      return count_distinct_characters(str1, str2[1:])\n",
    "    else:\n",
    "      return count_distinct_characters(str1 + str2[0], str2[1:])\n",
    "\n",
    "def main():\n",
    "  str1 = input(\"Enter a string: \")\n",
    "  str2 = input(\"Enter another string: \")\n",
    "\n",
    "  count = count_distinct_characters(str1, str2)\n",
    "\n",
    "  print(\"The number of distinct characters in the second string that are not present in the first string is:\", count)\n",
    "\n",
    "if __name__ == \"__main__\":\n",
    "  main()\n"
   ]
  },
  {
   "cell_type": "markdown",
   "metadata": {},
   "source": [
    "### 8.  Define a function to check whether a number is in a range (1000,10000) or not"
   ]
  },
  {
   "cell_type": "code",
   "execution_count": 12,
   "metadata": {},
   "outputs": [
    {
     "data": {
      "text/plain": [
       "True"
      ]
     },
     "execution_count": 12,
     "metadata": {},
     "output_type": "execute_result"
    }
   ],
   "source": [
    "def is_in_range(number):\n",
    "  if number >= 1000 and number <= 10000:\n",
    "    return True\n",
    "  else:\n",
    "    return False\n",
    "is_in_range(1002)"
   ]
  },
  {
   "cell_type": "markdown",
   "metadata": {},
   "source": [
    "### 9. Write a program to print pascal triangle upto 6 steps (using list)"
   ]
  },
  {
   "cell_type": "code",
   "execution_count": 13,
   "metadata": {},
   "outputs": [
    {
     "name": "stdout",
     "output_type": "stream",
     "text": [
      "1 1 1 1 1 1\n",
      "2 1 1 1 1 1\n",
      "3 3 1 1 1 1\n",
      "4 6 4 1 1 1\n",
      "5 10 10 5 1 1\n",
      "6 15 20 15 6 1\n"
     ]
    }
   ],
   "source": [
    "def pascal_triangle(n):\n",
    "  \"\"\"\n",
    "  Prints Pascal triangle upto n steps\n",
    "  \"\"\"\n",
    "  \n",
    "  t = [[1 for i in range(n)] for j in range(n)]\n",
    "\n",
    "  for i in range(1, n):\n",
    "    for j in range(i):\n",
    "      t[i][j] = t[i - 1][j - 1] + t[i - 1][j]\n",
    "\n",
    "  for i in range(n):\n",
    "    print(' '.join(str(j) for j in t[i]))\n",
    "\n",
    "\n",
    "if __name__ == \"__main__\":\n",
    "  n = 6\n",
    "  pascal_triangle(n)\n"
   ]
  },
  {
   "cell_type": "markdown",
   "metadata": {},
   "source": [
    "### 10. Write a program to calculate the sum of all elements in the list"
   ]
  },
  {
   "cell_type": "markdown",
   "metadata": {},
   "source": [
    "**test_score = [10, 32, 23, 14, 25]**"
   ]
  },
  {
   "cell_type": "code",
   "execution_count": 14,
   "metadata": {},
   "outputs": [
    {
     "name": "stdout",
     "output_type": "stream",
     "text": [
      "The sum of all elements in the list is: 104\n"
     ]
    }
   ],
   "source": [
    "def sum_list(list1):\n",
    "  \"\"\"\n",
    "  Calculates the sum of all elements in the list\n",
    "  \"\"\"\n",
    "\n",
    "  sum = 0\n",
    "  for i in list1:\n",
    "    sum += i\n",
    "\n",
    "  return sum\n",
    "\n",
    "\n",
    "if __name__ == \"__main__\":\n",
    "  list1 = [10, 32, 23, 14, 25]\n",
    "  sum = sum_list(list1)\n",
    "  print(\"The sum of all elements in the list is:\", sum)\n"
   ]
  },
  {
   "cell_type": "markdown",
   "metadata": {},
   "source": [
    "### 11. Find the minimum value along each of the rows"
   ]
  },
  {
   "cell_type": "markdown",
   "metadata": {},
   "source": [
    "Create a 2D Numpy array from list of lists<br>\n",
    "\n",
    "Score = np.array([[210, 402, 383],<br>\n",
    "                 [140, 375, 106], <br>\n",
    "                 [140, 125, 217], <br>\n",
    "                 [292, 240, 295]])"
   ]
  },
  {
   "cell_type": "code",
   "execution_count": 15,
   "metadata": {},
   "outputs": [
    {
     "name": "stdout",
     "output_type": "stream",
     "text": [
      "The minimum value along each of the rows is: [210, 106, 125, 240]\n"
     ]
    }
   ],
   "source": [
    "import numpy as np\n",
    "\n",
    "def min_by_row(array):\n",
    "  \"\"\"\n",
    "  Finds the minimum value along each of the rows in a 2D NumPy array\n",
    "  \"\"\"\n",
    "\n",
    "  min_by_row = []\n",
    "  for i in range(len(array)):\n",
    "    min_by_row.append(np.min(array[i]))\n",
    "\n",
    "  return min_by_row\n",
    "\n",
    "\n",
    "if __name__ == \"__main__\":\n",
    "  array = np.array([[210, 402, 383],\n",
    "                   [140, 375, 106],\n",
    "                   [140, 125, 217],\n",
    "                   [292, 240, 295]])\n",
    "  min_by_row = min_by_row(array)\n",
    "  print(\"The minimum value along each of the rows is:\", min_by_row)\n"
   ]
  },
  {
   "cell_type": "markdown",
   "metadata": {},
   "source": [
    "### 12.  Replace all even numbers in the array with -1"
   ]
  },
  {
   "cell_type": "markdown",
   "metadata": {},
   "source": [
    "Use the array given below\n",
    "\n",
    "    num_array = np.array([0, 21, 32, 13, 44, 45, 26, 28, 38, 34, 65, 48, 76])"
   ]
  },
  {
   "cell_type": "code",
   "execution_count": 16,
   "metadata": {},
   "outputs": [
    {
     "name": "stdout",
     "output_type": "stream",
     "text": [
      "The array after replacing even numbers with -1 is: [-1 21 -1 13 -1 45 -1 -1 -1 -1 65 -1 -1]\n"
     ]
    }
   ],
   "source": [
    "import numpy as np\n",
    "\n",
    "num_array = np.array([0, 21, 32, 13, 44, 45, 26, 28, 38, 34, 65, 48, 76])\n",
    "\n",
    "def replace_even_numbers(array):\n",
    "  for i in range(len(array)):\n",
    "    if array[i] % 2 == 0:\n",
    "      array[i] = -1\n",
    "\n",
    "  return array\n",
    "\n",
    "\n",
    "replaced_array = replace_even_numbers(num_array)\n",
    "\n",
    "print(\"The array after replacing even numbers with -1 is:\", replaced_array)\n"
   ]
  },
  {
   "cell_type": "markdown",
   "metadata": {},
   "source": [
    "### 13. Create a pandas series having values 4, 8, -1, 2, NAN and their index as d, b, a, c, e"
   ]
  },
  {
   "cell_type": "code",
   "execution_count": 17,
   "metadata": {},
   "outputs": [
    {
     "name": "stdout",
     "output_type": "stream",
     "text": [
      "The Pandas series is: d    4.0\n",
      "b    8.0\n",
      "a   -1.0\n",
      "c    2.0\n",
      "e    NaN\n",
      "dtype: float64\n"
     ]
    }
   ],
   "source": [
    "import pandas as pd\n",
    "\n",
    "data = {'d': 4, 'b': 8, 'a': -1, 'c': 2, 'e': np.NAN}\n",
    "\n",
    "series = pd.Series(data)\n",
    "\n",
    "print(\"The Pandas series is:\", series)\n"
   ]
  },
  {
   "cell_type": "markdown",
   "metadata": {},
   "source": [
    "### 14. Add a new column 'Height' in the give dataframe"
   ]
  },
  {
   "cell_type": "markdown",
   "metadata": {},
   "source": [
    "<table>\n",
    "  <tr>\n",
    "  <th>Name </th>\n",
    "  <th>Weight</th>\n",
    "  </tr>\n",
    "  <tr>\n",
    "  <td>Mia</td>\n",
    "  <td>55</td>    \n",
    "  </tr>\n",
    "  <tr>\n",
    "  <td>Joy</td>\n",
    "  <td>66</td> \n",
    "  </tr>\n",
    "  <tr>\n",
    "  <td>Karan</td>\n",
    "  <td>80</td> \n",
    "  </tr>\n",
    "  <tr>\n",
    "  <td>George</td>\n",
    "  <td>67</td> \n",
    "</tr>\n",
    "</table>\n",
    "  "
   ]
  },
  {
   "cell_type": "markdown",
   "metadata": {},
   "source": [
    "New Column:\n",
    "<table>\n",
    "  <tr>\n",
    "  <th>Height</th>   \n",
    "  </tr>\n",
    "  <tr>\n",
    "  <td>5.5</td>\n",
    "  </tr>\n",
    "  <tr>\n",
    "  <td>6.7</td>\n",
    "  </tr>\n",
    "  <tr>\n",
    "  <td>5.8</td>\n",
    "  </tr>\n",
    "  <tr>\n",
    "  <td>6</td>\n",
    "</tr>\n",
    "</table>"
   ]
  },
  {
   "cell_type": "code",
   "execution_count": 18,
   "metadata": {},
   "outputs": [
    {
     "name": "stdout",
     "output_type": "stream",
     "text": [
      "The dataframe with the new column is:      Name  Weight  Height\n",
      "0     Mia      55     5.5\n",
      "1     Joy      66     6.7\n",
      "2   Karan      80     5.8\n",
      "3  George      67     6.0\n"
     ]
    }
   ],
   "source": [
    "import pandas as pd\n",
    "\n",
    "data = {'Name': ['Mia', 'Joy', 'Karan', 'George'], 'Weight': [55, 66, 80, 67]}\n",
    "\n",
    "df = pd.DataFrame(data)\n",
    "\n",
    "df['Height'] = [5.5, 6.7, 5.8, 6]\n",
    "\n",
    "print(\"The dataframe with the new column is:\", df)\n"
   ]
  },
  {
   "cell_type": "markdown",
   "metadata": {},
   "source": [
    "### 15. Use the data created in question 14, to do the following:\n",
    "Access column 'Name' by specifying the column number<br>\n",
    "Access column 'Height' by specifying the column name"
   ]
  },
  {
   "cell_type": "code",
   "execution_count": 21,
   "metadata": {},
   "outputs": [
    {
     "name": "stdout",
     "output_type": "stream",
     "text": [
      "The name column is: 0       Mia\n",
      "1       Joy\n",
      "2     Karan\n",
      "3    George\n",
      "Name: Name, dtype: object\n"
     ]
    }
   ],
   "source": [
    "import pandas as pd\n",
    "\n",
    "data = {'Name': ['Mia', 'Joy', 'Karan', 'George'], 'Weight': [55, 66, 80, 67]}\n",
    "\n",
    "df = pd.DataFrame(data)\n",
    "\n",
    "name_column = df['Name']\n",
    "\n",
    "\n",
    "print(\"The name column is:\", name_column)\n"
   ]
  },
  {
   "cell_type": "code",
   "execution_count": 26,
   "metadata": {},
   "outputs": [
    {
     "name": "stdout",
     "output_type": "stream",
     "text": [
      "The height column is: 0    5.5\n",
      "1    6.7\n",
      "2    5.8\n",
      "3    6.0\n",
      "Name: Height, dtype: float64\n"
     ]
    }
   ],
   "source": [
    "data = {'Name': ['Mia', 'Joy', 'Karan', 'George'], 'Weight': [55, 66, 80, 67]}\n",
    "\n",
    "df = pd.DataFrame(data)\n",
    "\n",
    "df['Height'] = [5.5, 6.7, 5.8, 6]\n",
    "\n",
    "#print(\"The dataframe with the new column is:\", df)\n",
    "\n",
    "height_column = df['Height']\n",
    "\n",
    "print(\"The height column is:\", height_column)\n",
    "\n"
   ]
  },
  {
   "cell_type": "markdown",
   "metadata": {},
   "source": [
    "### 16. Find duplicate rows based on the column 'Order_ID'"
   ]
  },
  {
   "cell_type": "markdown",
   "metadata": {},
   "source": [
    "**Use the dataframe given below:**\n",
    "   \n",
    "<table>\n",
    "<tr>\n",
    "<th>Order_ID</th>\n",
    "<th>Product</th>\n",
    "<th>City</th>\n",
    "</tr>\n",
    "<tr>\n",
    "<td>YZ1100</td>\n",
    "<td>Cell Phone</td>\n",
    "<td>Sydeny</td>\n",
    "</tr>\n",
    "<tr>\n",
    "<td>RW1200</td>\n",
    "<td>Watch</td>\n",
    "<td>Chicago</td>\n",
    "</tr>\n",
    "<tr>\n",
    "<td>YZ1100</td>\n",
    "<td>Cell Phone</td>\n",
    "<td>New York</td>\n",
    "</tr>\n",
    "<tr>\n",
    "<td>TY1400</td>\n",
    "<td>Charger</td>\n",
    "<td>Chicago</td>\n",
    "</tr>\n",
    "<tr>\n",
    "<td>VB1500</td>\n",
    "<td>Watch</td>\n",
    "<td>Chicago</td>\n",
    "</tr>\n",
    "<tr>\n",
    "<td>TY1400</td>\n",
    "<td>Headphones</td>\n",
    "<td>Texas</td>\n",
    "</tr>\n",
    "<tr>\n",
    "<td>MW1600</td>\n",
    "<td>Charger</td>\n",
    "<td>New York</td>\n",
    "</tr>\n",
    "<tr>\n",
    "<td>CN1600</td>\n",
    "<td>Headphones</td>\n",
    "<td>Chicago</td>\n",
    "</tr>\n",
    "   \n",
    "</table>"
   ]
  },
  {
   "cell_type": "code",
   "execution_count": 27,
   "metadata": {},
   "outputs": [
    {
     "name": "stdout",
     "output_type": "stream",
     "text": [
      "The duplicate rows based on the column 'Order_ID' are:   Order_ID     Product      City\n",
      "2   YZ1100  Cell Phone  New York\n",
      "5   TY1400  Headphones     Texas\n"
     ]
    }
   ],
   "source": [
    "import pandas as pd\n",
    "\n",
    "df = pd.DataFrame({'Order_ID': ['YZ1100', 'RW1200', 'YZ1100', 'TY1400', 'VB1500', 'TY1400', 'MW1600', 'CN1600'],\n",
    "                   'Product': ['Cell Phone', 'Watch', 'Cell Phone', 'Charger', 'Watch', 'Headphones', 'Charger', 'Headphones'],\n",
    "                   'City': ['Sydeny', 'Chicago', 'New York', 'Chicago', 'Chicago', 'Texas', 'New York', 'Chicago']})\n",
    "\n",
    "duplicate_rows = df[df.duplicated(subset=['Order_ID'])]\n",
    "\n",
    "print(\"The duplicate rows based on the column 'Order_ID' are:\", duplicate_rows)\n"
   ]
  },
  {
   "cell_type": "markdown",
   "metadata": {},
   "source": [
    "### 17. Use the data created in question 16, to do the following:\n",
    "In column 'Product', replace all the 'Cell Phone' values with 'Mobile' using numpy.where\n"
   ]
  },
  {
   "cell_type": "code",
   "execution_count": 28,
   "metadata": {},
   "outputs": [
    {
     "name": "stdout",
     "output_type": "stream",
     "text": [
      "The dataframe after replacing 'Cell Phone' with 'Mobile' is:   Order_ID     Product      City\n",
      "0   YZ1100      Mobile    Sydeny\n",
      "1   RW1200       Watch   Chicago\n",
      "2   YZ1100      Mobile  New York\n",
      "3   TY1400     Charger   Chicago\n",
      "4   VB1500       Watch   Chicago\n",
      "5   TY1400  Headphones     Texas\n",
      "6   MW1600     Charger  New York\n",
      "7   CN1600  Headphones   Chicago\n"
     ]
    }
   ],
   "source": [
    "import pandas as pd\n",
    "import numpy as np\n",
    "\n",
    "df = pd.DataFrame({'Order_ID': ['YZ1100', 'RW1200', 'YZ1100', 'TY1400', 'VB1500', 'TY1400', 'MW1600', 'CN1600'],\n",
    "                   'Product': ['Cell Phone', 'Watch', 'Cell Phone', 'Charger', 'Watch', 'Headphones', 'Charger', 'Headphones'],\n",
    "                   'City': ['Sydeny', 'Chicago', 'New York', 'Chicago', 'Chicago', 'Texas', 'New York', 'Chicago']})\n",
    "\n",
    "# Create a NumPy array with the replacement values\n",
    "replacement_values = np.where(df['Product'] == 'Cell Phone', 'Mobile', df['Product'])\n",
    "\n",
    "# Replace the values in the 'Product' column with the replacement values\n",
    "df['Product'] = replacement_values\n",
    "\n",
    "print(\"The dataframe after replacing 'Cell Phone' with 'Mobile' is:\", df)\n"
   ]
  },
  {
   "cell_type": "markdown",
   "metadata": {},
   "source": [
    "### 18. Perform right join to combine values based on the 'ID' in the two dataframes"
   ]
  },
  {
   "cell_type": "markdown",
   "metadata": {},
   "source": [
    "**Use the dataframe given below:**\n",
    "   \n",
    "<table>\n",
    "    <tr>\n",
    "        <th>ID</th>\n",
    "        <th>Candidate_Name</th>\n",
    "        <th>Subject</th>\n",
    "    </tr>\n",
    "    <tr>\n",
    "        <td>101</td>\n",
    "        <td>Alex</td>\n",
    "        <td>History</td>\n",
    "    </tr>\n",
    "    <tr>\n",
    "        <td>102</td>\n",
    "        <td>Amy</td>\n",
    "        <td>English</td>\n",
    "    </tr>\n",
    "    <tr>\n",
    "        <td>103</td>\n",
    "        <td>Allen</td>\n",
    "        <td>Geography</td>\n",
    "    </tr>\n",
    "    <tr>\n",
    "        <td>104</td>\n",
    "        <td>Alice</td>\n",
    "        <td>German</td>\n",
    "    </tr>\n",
    "        <td>105</td>\n",
    "        <td>James</td>\n",
    "        <td>History</td>\n",
    "    </tr>\n",
    "    <tr>\n",
    "        <td>106</td>\n",
    "        <td>Sara</td>\n",
    "        <td>German</td>\n",
    "    </tr>\n",
    "    <tr>\n",
    "        <td>107</td>\n",
    "        <td>Mia</td>\n",
    "        <td>English</td>\n",
    "    </tr>  \n",
    "</table>\n",
    "<br>\n",
    "\n",
    "\n",
    "\n",
    "<table>\n",
    "    <tr>\n",
    "        <th>ID</th>\n",
    "        <th>City</th>\n",
    "        <th>Subject_Score</th>\n",
    "    </tr>\n",
    "    <tr>\n",
    "        <td>101</td>\n",
    "        <td>Delhi</td>\n",
    "        <td>89</td>\n",
    "    </tr>\n",
    "    <tr>\n",
    "        <td>102</td>\n",
    "        <td>Mumbai</td>\n",
    "        <td>78</td>\n",
    "    </tr>\n",
    "    <tr>\n",
    "        <td>103</td>\n",
    "        <td>Delhi</td>\n",
    "        <td>77</td>\n",
    "    </tr>\n",
    "    <tr>\n",
    "        <td>104</td>\n",
    "        <td>Chennai</td>\n",
    "        <td>87</td>\n",
    "    </tr>\n",
    "    <tr>\n",
    "        <td>105</td>\n",
    "        <td>Hyderabad</td>\n",
    "        <td>87</td>\n",
    "    </tr>\n",
    "        <td>108</td>\n",
    "        <td>Delhi</td>\n",
    "        <td>84</td>\n",
    "\n",
    "    </tr>\n",
    "</table>"
   ]
  },
  {
   "cell_type": "code",
   "execution_count": 29,
   "metadata": {},
   "outputs": [
    {
     "name": "stdout",
     "output_type": "stream",
     "text": [
      "The dataframe after right join is:     ID Candidate_Name    Subject       City  Subject_Score\n",
      "0  101           Alex    History      Delhi             89\n",
      "1  102            Amy    English     Mumbai             78\n",
      "2  103          Allen  Geography      Delhi             77\n",
      "3  104          Alice     German    Chennai             87\n",
      "4  105          James    History  Hyderabad             87\n",
      "5  108            NaN        NaN      Delhi             84\n"
     ]
    }
   ],
   "source": [
    "import pandas as pd\n",
    "\n",
    "df_left = pd.DataFrame({'ID': [101, 102, 103, 104, 105, 106, 107],\n",
    "                        'Candidate_Name': ['Alex', 'Amy', 'Allen', 'Alice', 'James', 'Sara', 'Mia'],\n",
    "                        'Subject': ['History', 'English', 'Geography', 'German', 'History', 'German', 'English']})\n",
    "\n",
    "df_right = pd.DataFrame({'ID': [101, 102, 103, 104, 105, 108],\n",
    "                        'City': ['Delhi', 'Mumbai', 'Delhi', 'Chennai', 'Hyderabad', 'Delhi'],\n",
    "                        'Subject_Score': [89, 78, 77, 87, 87, 84]})\n",
    "\n",
    "df = pd.merge(df_left, df_right, on='ID', how='right')\n",
    "\n",
    "print(\"The dataframe after right join is:\", df)\n"
   ]
  },
  {
   "cell_type": "markdown",
   "metadata": {},
   "source": [
    "### 19. Use the following data to plot a pie chart and annotate the percentage sales"
   ]
  },
  {
   "cell_type": "markdown",
   "metadata": {},
   "source": [
    "<table>\n",
    "    <tr>\n",
    "        <th>City</th>\n",
    "        <th>Sales</th>\n",
    "    </tr>\n",
    "    <tr>\n",
    "        <td>Delhi</td>\n",
    "        <td>890</td>\n",
    "    </tr>\n",
    "    <tr>\n",
    "        <td>Mumbai</td>\n",
    "        <td>784</td>\n",
    "    </tr>\n",
    "    <tr>\n",
    "        <td>Delhi</td>\n",
    "        <td>775</td>\n",
    "    </tr>\n",
    "    <tr>\n",
    "        <td>Chennai</td>\n",
    "        <td>873</td>\n",
    "    </tr>\n",
    "    <tr>\n",
    "        <td>Hyderabad</td>\n",
    "        <td>387</td>\n",
    "    </tr>\n",
    "        <td>Delhi</td>\n",
    "        <td>684</td>\n",
    "\n",
    "    </tr>\n",
    "</table>"
   ]
  },
  {
   "cell_type": "code",
   "execution_count": 30,
   "metadata": {},
   "outputs": [
    {
     "data": {
      "image/png": "[encoded data removed]",
      "text/plain": [
       "<Figure size 640x480 with 1 Axes>"
      ]
     },
     "metadata": {},
     "output_type": "display_data"
    }
   ],
   "source": [
    "import pandas as pd\n",
    "import matplotlib.pyplot as plt\n",
    "\n",
    "data = {'City': ['Delhi', 'Mumbai', 'Delhi', 'Chennai', 'Hyderabad', 'Delhi'],\n",
    "        'Sales': [890, 784, 775, 873, 387, 684]}\n",
    "\n",
    "df = pd.DataFrame(data)\n",
    "\n",
    "plt.pie(df['Sales'], labels=df['City'], autopct=\"%1.1f%%\")\n",
    "plt.title(\"Pie Chart of Sales\")\n",
    "plt.show()\n"
   ]
  },
  {
   "cell_type": "markdown",
   "metadata": {},
   "source": [
    "### 20. Use the data created in question 19, to do the following:\n",
    "Calculate minimum, maximum and average sales for each origin"
   ]
  },
  {
   "cell_type": "code",
   "execution_count": 31,
   "metadata": {},
   "outputs": [
    {
     "name": "stdout",
     "output_type": "stream",
     "text": [
      "The minimum sales is: 387\n",
      "The maximum sales is: 890\n",
      "The average sales is: 732.1666666666666\n"
     ]
    }
   ],
   "source": [
    "import pandas as pd\n",
    "\n",
    "data = {'City': ['Delhi', 'Mumbai', 'Delhi', 'Chennai', 'Hyderabad', 'Delhi'],\n",
    "        'Sales': [890, 784, 775, 873, 387, 684]}\n",
    "\n",
    "df = pd.DataFrame(data)\n",
    "\n",
    "min_sales = df['Sales'].min()\n",
    "max_sales = df['Sales'].max()\n",
    "avg_sales = df['Sales'].mean()\n",
    "\n",
    "print(\"The minimum sales is:\", min_sales)\n",
    "print(\"The maximum sales is:\", max_sales)\n",
    "print(\"The average sales is:\", avg_sales)\n"
   ]
  },
  {
   "cell_type": "code",
   "execution_count": null,
   "metadata": {},
   "outputs": [],
   "source": []
  }
 ],
 "metadata": {
  "kernelspec": {
   "display_name": "Python 3 (ipykernel)",
   "language": "python",
   "name": "python3"
  },
  "language_info": {
   "codemirror_mode": {
    "name": "ipython",
    "version": 3
   },
   "file_extension": ".py",
   "mimetype": "text/x-python",
   "name": "python",
   "nbconvert_exporter": "python",
   "pygments_lexer": "ipython3",
   "version": "3.11.4"
  }
 },
 "nbformat": 4,
 "nbformat_minor": 2
}
